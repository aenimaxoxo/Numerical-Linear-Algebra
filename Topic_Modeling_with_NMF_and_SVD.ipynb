{
  "nbformat": 4,
  "nbformat_minor": 0,
  "metadata": {
    "colab": {
      "name": "Topic_Modeling_with_NMF_and_SVD.ipynb",
      "version": "0.3.2",
      "provenance": [],
      "collapsed_sections": [],
      "toc_visible": true
    },
    "kernelspec": {
      "name": "python3",
      "display_name": "Python 3"
    },
    "accelerator": "GPU"
  },
  "cells": [
    {
      "metadata": {
        "id": "iG0iPRzxl4-Q",
        "colab_type": "code",
        "colab": {}
      },
      "cell_type": "code",
      "source": [
        "import numpy as np\n",
        "from sklearn.datasets import fetch_20newsgroups\n",
        "from sklearn import decomposition\n",
        "from scipy import linalg\n",
        "import matplotlib.pyplot as plt"
      ],
      "execution_count": 0,
      "outputs": []
    },
    {
      "metadata": {
        "id": "jmDxg_bqmQJV",
        "colab_type": "text"
      },
      "cell_type": "markdown",
      "source": [
        "Topic Modeling with NMF and SVD "
      ]
    },
    {
      "metadata": {
        "id": "u5UL6pADl8NE",
        "colab_type": "code",
        "colab": {}
      },
      "cell_type": "code",
      "source": [
        "%matplotlib inline\n",
        "np.set_printoptions(suppress=True)"
      ],
      "execution_count": 0,
      "outputs": []
    },
    {
      "metadata": {
        "id": "VvnJ69k6mu2t",
        "colab_type": "text"
      },
      "cell_type": "markdown",
      "source": [
        "Set up data"
      ]
    },
    {
      "metadata": {
        "id": "jTmXn6XlmuTb",
        "colab_type": "code",
        "colab": {}
      },
      "cell_type": "code",
      "source": [
        "# seperate categories \n",
        "categories = ['alt.atheism', 'talk.religion.misc', 'comp.graphics', 'sci.space']\n",
        "remove = ('headers', 'footers', 'quotes') \n",
        "\n",
        "# set training and test sets \n",
        "newsgroups_train = fetch_20newsgroups(subset = 'train', categories = categories, remove = remove)\n",
        "newsgroups_test = fetch_20newsgroups(subset = 'test', categories = categories, remove = remove)"
      ],
      "execution_count": 0,
      "outputs": []
    },
    {
      "metadata": {
        "id": "j9heD014nGEA",
        "colab_type": "code",
        "colab": {
          "base_uri": "https://localhost:8080/",
          "height": 34
        },
        "outputId": "e05cf4d1-d76b-439a-c9da-52a1abae80b8"
      },
      "cell_type": "code",
      "source": [
        "# return shape of columns\n",
        "newsgroups_train.filenames.shape, newsgroups_train.target.shape "
      ],
      "execution_count": 14,
      "outputs": [
        {
          "output_type": "execute_result",
          "data": {
            "text/plain": [
              "((2034,), (2034,))"
            ]
          },
          "metadata": {
            "tags": []
          },
          "execution_count": 14
        }
      ]
    },
    {
      "metadata": {
        "id": "eMcwFRmxnONs",
        "colab_type": "code",
        "colab": {
          "base_uri": "https://localhost:8080/",
          "height": 612
        },
        "outputId": "eaa4d30a-849d-44e6-e847-449586dc5961"
      },
      "cell_type": "code",
      "source": [
        "# look at some of the data \n",
        "print(\"\\n\".join(newsgroups_train.data[:3]))"
      ],
      "execution_count": 15,
      "outputs": [
        {
          "output_type": "stream",
          "text": [
            "Hi,\n",
            "\n",
            "I've noticed that if you only save a model (with all your mapping planes\n",
            "positioned carefully) to a .3DS file that when you reload it after restarting\n",
            "3DS, they are given a default position and orientation.  But if you save\n",
            "to a .PRJ file their positions/orientation are preserved.  Does anyone\n",
            "know why this information is not stored in the .3DS file?  Nothing is\n",
            "explicitly said in the manual about saving texture rules in the .PRJ file. \n",
            "I'd like to be able to read the texture rule information, does anyone have \n",
            "the format for the .PRJ file?\n",
            "\n",
            "Is the .CEL file format available from somewhere?\n",
            "\n",
            "Rych\n",
            "\n",
            "\n",
            "Seems to be, barring evidence to the contrary, that Koresh was simply\n",
            "another deranged fanatic who thought it neccessary to take a whole bunch of\n",
            "folks with him, children and all, to satisfy his delusional mania. Jim\n",
            "Jones, circa 1993.\n",
            "\n",
            "\n",
            "Nope - fruitcakes like Koresh have been demonstrating such evil corruption\n",
            "for centuries.\n",
            "\n",
            " >In article <1993Apr19.020359.26996@sq.sq.com>, msb@sq.sq.com (Mark Brader) \n",
            "\n",
            "MB>                                                             So the\n",
            "MB> 1970 figure seems unlikely to actually be anything but a perijove.\n",
            "\n",
            "JG>Sorry, _perijoves_...I'm not used to talking this language.\n",
            "\n",
            "Couldn't we just say periapsis or apoapsis?\n",
            "\n",
            " \n"
          ],
          "name": "stdout"
        }
      ]
    },
    {
      "metadata": {
        "id": "f6lGN0szncoU",
        "colab_type": "code",
        "colab": {}
      },
      "cell_type": "code",
      "source": [
        "# return a subset of the data\n",
        "np.array(newsgroups_train.target_names)[newsgroups_train.target[:3]]\n",
        "newsgroups_train.target[:10] \n",
        "num_topics, num_top_words = 6, 8"
      ],
      "execution_count": 0,
      "outputs": []
    },
    {
      "metadata": {
        "id": "2jv9yZlOnq90",
        "colab_type": "code",
        "colab": {
          "base_uri": "https://localhost:8080/",
          "height": 34
        },
        "outputId": "68ffdc8c-7718-44ce-f435-3e8c69671fb9"
      },
      "cell_type": "code",
      "source": [
        "# extract word counts using skl\n",
        "from sklearn.feature_extraction.text import CountVectorizer, TfidfVectorizer \n",
        "vectorizer = CountVectorizer(stop_words = 'english')\n",
        "vectors = vectorizer.fit_transform(newsgroups_train.data).todense() # (documents, vocab)\n",
        "vectors.shape"
      ],
      "execution_count": 17,
      "outputs": [
        {
          "output_type": "execute_result",
          "data": {
            "text/plain": [
              "(2034, 26576)"
            ]
          },
          "metadata": {
            "tags": []
          },
          "execution_count": 17
        }
      ]
    },
    {
      "metadata": {
        "id": "OhEgz_LyoUfR",
        "colab_type": "code",
        "colab": {
          "base_uri": "https://localhost:8080/",
          "height": 102
        },
        "outputId": "6aa49f2e-0165-4eca-e796-c139812e49b5"
      },
      "cell_type": "code",
      "source": [
        "print(len(newsgroups_train.data), vectors.shape)\n",
        "vocab = np.array(vectorizer.get_feature_names())\n",
        "vocab.shape\n",
        "vocab[7000:7020]"
      ],
      "execution_count": 18,
      "outputs": [
        {
          "output_type": "stream",
          "text": [
            "2034 (2034, 26576)\n"
          ],
          "name": "stdout"
        },
        {
          "output_type": "execute_result",
          "data": {
            "text/plain": [
              "array(['cosmonauts', 'cosmos', 'cosponsored', 'cost', 'costa', 'costar',\n",
              "       'costing', 'costly', 'costruction', 'costs', 'cosy', 'cote',\n",
              "       'couched', 'couldn', 'council', 'councils', 'counsel',\n",
              "       'counselees', 'counselor', 'count'], dtype='<U80')"
            ]
          },
          "metadata": {
            "tags": []
          },
          "execution_count": 18
        }
      ]
    },
    {
      "metadata": {
        "id": "Q2h_fi0_oi0l",
        "colab_type": "text"
      },
      "cell_type": "markdown",
      "source": [
        "Singluar Value Decomposition \n",
        "\n",
        "\n",
        "The SVD algorithm factorizes a matrix into one matrix with orthogonal columns and one with orthogonal rows (along with a diagonal matrix, which contains the relative importance of each factor).\n",
        "\n",
        "SVD is used in data science specifically for: \n",
        "\n",
        "- semantic analysis\n",
        "- collaborative filtering / reccomendations (winning entry for the netflix prize)\n",
        "- calculating the Moore-Penrose pseudoinverse\n",
        "- data compression\n",
        "- principal component analysis\n",
        "\n",
        "Here is a useful youtube video: \n",
        "https://www.youtube.com/watch?v=P5mlg91as1c\n",
        "\n"
      ]
    },
    {
      "metadata": {
        "id": "-YOR1CuAohKJ",
        "colab_type": "code",
        "colab": {
          "base_uri": "https://localhost:8080/",
          "height": 68
        },
        "outputId": "febf5749-5f2f-492e-9c8b-80b6171be043"
      },
      "cell_type": "code",
      "source": [
        "%time U, s, Vh = linalg.svd(vectors, full_matrices = False)\n",
        "print(U.shape, s.shape, Vh.shape)"
      ],
      "execution_count": 19,
      "outputs": [
        {
          "output_type": "stream",
          "text": [
            "CPU times: user 1min 47s, sys: 6.78 s, total: 1min 53s\n",
            "Wall time: 59.1 s\n",
            "(2034, 2034) (2034,) (2034, 26576)\n"
          ],
          "name": "stdout"
        }
      ]
    },
    {
      "metadata": {
        "id": "RYIYMfVDtX2X",
        "colab_type": "code",
        "colab": {
          "base_uri": "https://localhost:8080/",
          "height": 282
        },
        "outputId": "1c1b4875-bbe6-4529-9282-439e129bf70e"
      },
      "cell_type": "code",
      "source": [
        "plt.plot(s)"
      ],
      "execution_count": 20,
      "outputs": [
        {
          "output_type": "execute_result",
          "data": {
            "text/plain": [
              "[<matplotlib.lines.Line2D at 0x7fec36bcf2e8>]"
            ]
          },
          "metadata": {
            "tags": []
          },
          "execution_count": 20
        },
        {
          "output_type": "display_data",
          "data": {
            "image/png": "[encoded data removed]",
            "text/plain": [
              "<matplotlib.figure.Figure at 0x7fec6671c8d0>"
            ]
          },
          "metadata": {
            "tags": []
          }
        }
      ]
    },
    {
      "metadata": {
        "id": "7wKxYrqmtaue",
        "colab_type": "code",
        "colab": {
          "base_uri": "https://localhost:8080/",
          "height": 287
        },
        "outputId": "1d4bd342-5835-4e1b-b224-c732a13596bd"
      },
      "cell_type": "code",
      "source": [
        "plt.plot(s[:10])"
      ],
      "execution_count": 21,
      "outputs": [
        {
          "output_type": "execute_result",
          "data": {
            "text/plain": [
              "[<matplotlib.lines.Line2D at 0x7fec36b7f748>]"
            ]
          },
          "metadata": {
            "tags": []
          },
          "execution_count": 21
        },
        {
          "output_type": "display_data",
          "data": {
            "image/png": "[encoded data removed]",
            "text/plain": [
              "<matplotlib.figure.Figure at 0x7fec6671cd30>"
            ]
          },
          "metadata": {
            "tags": []
          }
        }
      ]
    },
    {
      "metadata": {
        "id": "7O41E7qjtfid",
        "colab_type": "code",
        "colab": {
          "base_uri": "https://localhost:8080/",
          "height": 187
        },
        "outputId": "8081f2ec-4be9-43ca-f079-330385be5cb4"
      },
      "cell_type": "code",
      "source": [
        "num_top_words = 8\n",
        "\n",
        "def show_topics(a): \n",
        "  top_words = lambda t: [vocab[i] for i in np.argsort(t)[:-num_top_words - 1: -1]] \n",
        "  topic_words = ([top_words(t) for t in a])\n",
        "  return [' '.join(t) for t in topic_words]\n",
        "\n",
        "show_topics(Vh[:10])"
      ],
      "execution_count": 22,
      "outputs": [
        {
          "output_type": "execute_result",
          "data": {
            "text/plain": [
              "['ditto critus propagandist surname galacticentric kindergarten surreal imaginative',\n",
              " 'jpeg gif file color quality image jfif format',\n",
              " 'graphics edu pub mail 128 3d ray ftp',\n",
              " 'jesus god matthew people atheists atheism does graphics',\n",
              " 'image data processing analysis software available tools display',\n",
              " 'god atheists atheism religious believe religion argument true',\n",
              " 'space nasa lunar mars probe moon missions probes',\n",
              " 'image probe surface lunar mars probes moon orbit',\n",
              " 'argument fallacy conclusion example true ad argumentum premises',\n",
              " 'space larson image theory universe physical nasa material']"
            ]
          },
          "metadata": {
            "tags": []
          },
          "execution_count": 22
        }
      ]
    },
    {
      "metadata": {
        "id": "ax44HZ_Bt2xU",
        "colab_type": "text"
      },
      "cell_type": "markdown",
      "source": [
        "Non-Negative Matrix Factorization (NMF)\n",
        "\n",
        "Idea: Rather than constraining our factors to be orthogonal, another idea would be to constrain them to be non-negative. NMF is a factorization of a non-negative data set V: \n",
        "\n",
        "V = WH \n",
        "\n",
        "into non-negative matrices W, H. Often positive factors will be more easily interpretable. \n",
        "\n",
        "Applications of NMF include: \n",
        "\n",
        "- Face Decompositions\n",
        "- Collaborative Filtering (e.g. movie reccs)\n",
        "- Audio source seperation\n",
        "- Chemistry \n",
        "- Bioinformations and Gene Expression \n",
        "- Topic Modeling \n",
        "\n",
        "Notes: \n",
        "\n",
        "  For NMF, matrix needs to be at least as tall as it is wide, or we get an error with fit_transform\n",
        "  Can use df_min in CountVectorizer to only look at words that were in at least k of the split text"
      ]
    },
    {
      "metadata": {
        "id": "rWAQp4fwvPQf",
        "colab_type": "code",
        "colab": {
          "base_uri": "https://localhost:8080/",
          "height": 102
        },
        "outputId": "adc1c60c-1e33-4484-a971-4debc70c38f3"
      },
      "cell_type": "code",
      "source": [
        "# we will use sklearns implementation of NMF \n",
        "m, n = vectors.shape \n",
        "d = 5 # num of topics\n",
        "\n",
        "# run our factorization\n",
        "clf = decomposition.NMF(n_components = d, random_state = 1) \n",
        "W1 = clf.fit_transform(vectors)\n",
        "H1 = clf.components_ \n",
        "\n",
        "# output\n",
        "show_topics(H1)\n"
      ],
      "execution_count": 23,
      "outputs": [
        {
          "output_type": "execute_result",
          "data": {
            "text/plain": [
              "['jpeg image gif file color images format quality',\n",
              " 'edu graphics pub mail 128 ray ftp send',\n",
              " 'space launch satellite nasa commercial satellites year market',\n",
              " 'jesus god people matthew atheists does atheism said',\n",
              " 'image data available software processing ftp edu analysis']"
            ]
          },
          "metadata": {
            "tags": []
          },
          "execution_count": 23
        }
      ]
    },
    {
      "metadata": {
        "id": "aTeg20trwrLf",
        "colab_type": "text"
      },
      "cell_type": "markdown",
      "source": [
        ""
      ]
    },
    {
      "metadata": {
        "id": "2sosZS-bvoDu",
        "colab_type": "text"
      },
      "cell_type": "markdown",
      "source": [
        "TF-IDF is a way to normalize term counts by taking into account how often they appear in a document, how long the document is and how common/rare the term is \n",
        "\n",
        "tf = # of occurances of term t in document / # of words in documents \n",
        "idf = log(# of documents / # of documents with term t in it)"
      ]
    },
    {
      "metadata": {
        "id": "REgT7SkWv1qg",
        "colab_type": "code",
        "colab": {
          "base_uri": "https://localhost:8080/",
          "height": 102
        },
        "outputId": "b7cde451-0c76-4103-bd2a-c3c430b698f9"
      },
      "cell_type": "code",
      "source": [
        "# encode vectors \n",
        "vectorizer_tfidf = TfidfVectorizer(stop_words = 'english')\n",
        "vectors_tfidf = vectorizer_tfidf.fit_transform(newsgroups_train.data) # (documents, vocab) \n",
        "\n",
        "# NMF components\n",
        "W1 = clf.fit_transform(vectors_tfidf)\n",
        "H1 = clf.components_ \n",
        "\n",
        "# output\n",
        "show_topics(H1)"
      ],
      "execution_count": 24,
      "outputs": [
        {
          "output_type": "execute_result",
          "data": {
            "text/plain": [
              "['people don think just like objective say morality',\n",
              " 'graphics thanks files image file program windows know',\n",
              " 'space nasa launch shuttle orbit moon lunar earth',\n",
              " 'ico bobbe tek beauchaine bronx manhattan sank queens',\n",
              " 'god jesus bible believe christian atheism does belief']"
            ]
          },
          "metadata": {
            "tags": []
          },
          "execution_count": 24
        }
      ]
    },
    {
      "metadata": {
        "id": "RHRlCbBYwYKg",
        "colab_type": "code",
        "colab": {
          "base_uri": "https://localhost:8080/",
          "height": 282
        },
        "outputId": "04939b20-e02d-4994-a7e7-28ecd22620e8"
      },
      "cell_type": "code",
      "source": [
        "plt.plot(clf.components_[0])"
      ],
      "execution_count": 25,
      "outputs": [
        {
          "output_type": "execute_result",
          "data": {
            "text/plain": [
              "[<matplotlib.lines.Line2D at 0x7fec316d9630>]"
            ]
          },
          "metadata": {
            "tags": []
          },
          "execution_count": 25
        },
        {
          "output_type": "display_data",
          "data": {
            "image/png": "[encoded data removed]",
            "text/plain": [
              "<matplotlib.figure.Figure at 0x7fec36b86278>"
            ]
          },
          "metadata": {
            "tags": []
          }
        }
      ]
    },
    {
      "metadata": {
        "id": "xDw0VFsQwdmm",
        "colab_type": "code",
        "colab": {
          "base_uri": "https://localhost:8080/",
          "height": 34
        },
        "outputId": "d9c885d3-8e66-4c98-d823-a7bf39ccf232"
      },
      "cell_type": "code",
      "source": [
        "clf.reconstruction_err_"
      ],
      "execution_count": 26,
      "outputs": [
        {
          "output_type": "execute_result",
          "data": {
            "text/plain": [
              "43.712926057952785"
            ]
          },
          "metadata": {
            "tags": []
          },
          "execution_count": 26
        }
      ]
    },
    {
      "metadata": {
        "id": "3iAVSrjJws0t",
        "colab_type": "text"
      },
      "cell_type": "markdown",
      "source": [
        "Stochastic Gradient Descent \n",
        "\n",
        "Goal: Decompose V(mxn) into V = WH where W(mxd) and H(dxn), W, H >= 0 and we've minimized the Frobenius norm of V - WH. \n"
      ]
    },
    {
      "metadata": {
        "id": "f1Ave4cDw8OM",
        "colab_type": "code",
        "colab": {
          "base_uri": "https://localhost:8080/",
          "height": 102
        },
        "outputId": "eff307d5-c32d-4f0e-96ce-a190f0214e96"
      },
      "cell_type": "code",
      "source": [
        "# set parameters\n",
        "lam = 1e3\n",
        "lr = 1e-2\n",
        "m, n = vectors_tfidf.shape \n",
        "\n",
        "W1 = clf.fit_transform(vectors)\n",
        "H1 = clf.components_\n",
        "\n",
        "show_topics(H1)\n"
      ],
      "execution_count": 27,
      "outputs": [
        {
          "output_type": "execute_result",
          "data": {
            "text/plain": [
              "['jpeg image gif file color images format quality',\n",
              " 'edu graphics pub mail 128 ray ftp send',\n",
              " 'space launch satellite nasa commercial satellites year market',\n",
              " 'jesus god people matthew atheists does atheism said',\n",
              " 'image data available software processing ftp edu analysis']"
            ]
          },
          "metadata": {
            "tags": []
          },
          "execution_count": 27
        }
      ]
    },
    {
      "metadata": {
        "id": "ls0qMCnzxOYF",
        "colab_type": "code",
        "colab": {
          "base_uri": "https://localhost:8080/",
          "height": 221
        },
        "outputId": "6a313c49-367e-4fcf-9217-6faabbbdc712"
      },
      "cell_type": "code",
      "source": [
        "# for Stochastic Gradient Descent \n",
        "\n",
        "mu = 1e-6\n",
        "\n",
        "def grads(M, W, H):\n",
        "    R = W@H-M\n",
        "    return R@H.T + penalty(W, mu)*lam, W.T@R + penalty(H, mu)*lam # dW, dH\n",
        "\n",
        "def penalty(M, mu):\n",
        "    return np.where(M>=mu,0, np.min(M - mu, 0))\n",
        "\n",
        "def upd(M, W, H, lr):\n",
        "    dW,dH = grads(M,W,H)\n",
        "    W -= lr*dW; H -= lr*dH\n",
        "  \n",
        "def report(M,W,H): \n",
        "    print(np.linalg.norm(M-W@H), W.min(), H.min(), (W<0).sum(), (H<0).sum())\n",
        "  \n",
        "W = np.abs(np.random.normal(scale=0.01, size=(m,d)))\n",
        "H = np.abs(np.random.normal(scale=0.01, size=(d,n)))\n",
        "\n",
        "report(vectors_tfidf, W, H)\n",
        "\n",
        "upd(vectors_tfidf, W, H, lr)\n",
        "\n",
        "report(vectors_tfidf, W, H)\n",
        "\n",
        "for i in range(50): \n",
        "  upd(vectors_tfidf, W, H, lr)\n",
        "  if i % 10 == 0: \n",
        "    report(vectors_tfidf, W, H)\n",
        "    \n",
        "show_topics(H)"
      ],
      "execution_count": 28,
      "outputs": [
        {
          "output_type": "stream",
          "text": [
            "44.4259368790468 1.0927543811111194e-06 1.2892915846677065e-07 0 0\n",
            "44.418205148286816 -0.0007252168341069446 -7.189104656323347e-05 133 247\n",
            "44.412551554856705 -0.0008532305763942787 -7.76335247083828e-05 140 237\n",
            "44.37495283075783 -0.0002605126400494636 -5.2357170061541896e-05 41 475\n",
            "44.34637928789805 -0.00023989831912794445 -6.203097087162157e-05 38 965\n",
            "44.3145937613589 -0.00019662701075776748 -8.933959123329933e-05 30 1491\n",
            "44.27961984251647 -9.458806310585547e-05 -9.665630419963582e-05 26 2155\n"
          ],
          "name": "stdout"
        },
        {
          "output_type": "execute_result",
          "data": {
            "text/plain": [
              "['space god people don does just know like',\n",
              " 'people god space just don know think like',\n",
              " 'people god space think just don like know',\n",
              " 'don god people space think just know like',\n",
              " 'just god think like people don space know']"
            ]
          },
          "metadata": {
            "tags": []
          },
          "execution_count": 28
        }
      ]
    },
    {
      "metadata": {
        "id": "-JcZETXYyzko",
        "colab_type": "text"
      },
      "cell_type": "markdown",
      "source": [
        "PyTorch is a python framework for tensors and dynamic neural networks with GPU acceleration. Its basically numpy with increased parallelization of using a GPU "
      ]
    },
    {
      "metadata": {
        "id": "P-k-EhFOy8Sv",
        "colab_type": "code",
        "colab": {}
      },
      "cell_type": "code",
      "source": [
        "import torch \n",
        "import torch.cuda as tc \n",
        "from torch.autograd import Variable"
      ],
      "execution_count": 0,
      "outputs": []
    },
    {
      "metadata": {
        "id": "oVpg5RIW0VWb",
        "colab_type": "code",
        "colab": {
          "base_uri": "https://localhost:8080/",
          "height": 54
        },
        "outputId": "ac781950-92f9-42c0-9170-1cca4b2473fb"
      },
      "cell_type": "code",
      "source": [
        "# http://pytorch.org/\n",
        "from os.path import exists\n",
        "from wheel.pep425tags import get_abbr_impl, get_impl_ver, get_abi_tag\n",
        "platform = '{}{}-{}'.format(get_abbr_impl(), get_impl_ver(), get_abi_tag())\n",
        "cuda_output = !ldconfig -p|grep cudart.so|sed -e 's/.*\\.\\([0-9]*\\)\\.\\([0-9]*\\)$/cu\\1\\2/'\n",
        "accelerator = cuda_output[0] if exists('/dev/nvidia0') else 'cpu'\n",
        "\n",
        "!pip install -q http://download.pytorch.org/whl/{accelerator}/torch-0.4.1-{platform}-linux_x86_64.whl torchvision\n",
        "import torch"
      ],
      "execution_count": 7,
      "outputs": [
        {
          "output_type": "stream",
          "text": [
            "tcmalloc: large alloc 1073750016 bytes == 0x57114000 @  0x7f8f43f5e1c4 0x46d6a4 0x5fcbcc 0x4c494d 0x54f3c4 0x553aaf 0x54e4c8 0x54f4f6 0x553aaf 0x54efc1 0x54f24d 0x553aaf 0x54efc1 0x54f24d 0x553aaf 0x54efc1 0x54f24d 0x551ee0 0x54e4c8 0x54f4f6 0x553aaf 0x54efc1 0x54f24d 0x551ee0 0x54efc1 0x54f24d 0x551ee0 0x54e4c8 0x54f4f6 0x553aaf 0x54e4c8\n"
          ],
          "name": "stdout"
        }
      ]
    },
    {
      "metadata": {
        "id": "Tur_cl1n2KX9",
        "colab_type": "code",
        "colab": {}
      },
      "cell_type": "code",
      "source": [
        "def V(M):\n",
        "  return Variable(M, requires_grad = True) \n",
        "\n",
        "v = vectors_tfidf.todense() \n",
        "\n",
        "t_vectors = torch.Tensor(v.astype(np.float32)).cuda()"
      ],
      "execution_count": 0,
      "outputs": []
    },
    {
      "metadata": {
        "id": "nyB4zQh53VQF",
        "colab_type": "code",
        "colab": {
          "base_uri": "https://localhost:8080/",
          "height": 187
        },
        "outputId": "6cb1ed38-a858-44e0-99c8-9eb455d767a4"
      },
      "cell_type": "code",
      "source": [
        "mu = 1e-5\n",
        "\n",
        "def grads_t(M, W, H):\n",
        "    R = W.mm(H)-M\n",
        "    return (R.mm(H.t()) + penalty_t(W, mu)*lam, \n",
        "        W.t().mm(R) + penalty_t(H, mu)*lam) # dW, dH\n",
        "\n",
        "def penalty_t(M, mu):\n",
        "    return (M<mu).type(tc.FloatTensor)*torch.clamp(M - mu, max=0.)\n",
        "\n",
        "def upd_t(M, W, H, lr):\n",
        "    dW,dH = grads_t(M,W,H)\n",
        "    W.sub_(lr*dW); H.sub_(lr*dH)\n",
        "\n",
        "def report_t(M,W,H): \n",
        "    print((M-W.mm(H)).norm(2), W.min(), H.min(), (W<0).sum(), (H<0).sum())\n",
        "  \n",
        "\n",
        "t_W = tc.FloatTensor(m,d)\n",
        "t_H = tc.FloatTensor(d,n)\n",
        "t_W.normal_(std=0.01).abs_(); \n",
        "t_H.normal_(std=0.01).abs_();\n",
        "\n",
        "d = 6; lam = 100; lr = 0.05\n",
        "\n",
        "for i in range(1000): \n",
        "    upd_t(t_vectors,t_W,t_H,lr)\n",
        "    if i % 100 == 0: \n",
        "        report_t(t_vectors,t_W,t_H)\n",
        "        lr *= 0.9"
      ],
      "execution_count": 33,
      "outputs": [
        {
          "output_type": "stream",
          "text": [
            "tensor(44.3936, device='cuda:0') tensor(-0.0072, device='cuda:0') tensor(-0.0005, device='cuda:0') tensor(1474, device='cuda:0') tensor(2250, device='cuda:0')\n",
            "tensor(43.7166, device='cuda:0') tensor(-0.0120, device='cuda:0') tensor(-0.0122, device='cuda:0') tensor(1959, device='cuda:0') tensor(20778, device='cuda:0')\n",
            "tensor(43.6622, device='cuda:0') tensor(-0.0071, device='cuda:0') tensor(-0.0113, device='cuda:0') tensor(2188, device='cuda:0') tensor(21086, device='cuda:0')\n",
            "tensor(43.6485, device='cuda:0') tensor(-0.0072, device='cuda:0') tensor(-0.0106, device='cuda:0') tensor(2408, device='cuda:0') tensor(21865, device='cuda:0')\n",
            "tensor(43.6460, device='cuda:0') tensor(-0.0047, device='cuda:0') tensor(-0.0074, device='cuda:0') tensor(2734, device='cuda:0') tensor(22942, device='cuda:0')\n",
            "tensor(43.6452, device='cuda:0') tensor(-0.0051, device='cuda:0') tensor(-0.0063, device='cuda:0') tensor(3184, device='cuda:0') tensor(24509, device='cuda:0')\n",
            "tensor(43.6450, device='cuda:0') tensor(-0.0042, device='cuda:0') tensor(-0.0048, device='cuda:0') tensor(3334, device='cuda:0') tensor(25225, device='cuda:0')\n",
            "tensor(43.6447, device='cuda:0') tensor(-0.0040, device='cuda:0') tensor(-0.0065, device='cuda:0') tensor(3124, device='cuda:0') tensor(26347, device='cuda:0')\n",
            "tensor(43.6446, device='cuda:0') tensor(-0.0030, device='cuda:0') tensor(-0.0061, device='cuda:0') tensor(3062, device='cuda:0') tensor(26375, device='cuda:0')\n",
            "tensor(43.6443, device='cuda:0') tensor(-0.0033, device='cuda:0') tensor(-0.0068, device='cuda:0') tensor(4090, device='cuda:0') tensor(34974, device='cuda:0')\n"
          ],
          "name": "stdout"
        }
      ]
    },
    {
      "metadata": {
        "id": "Uh365I_75H4b",
        "colab_type": "code",
        "colab": {
          "base_uri": "https://localhost:8080/",
          "height": 119
        },
        "outputId": "db235b11-d961-4e6d-bf0e-e7b79f0b6923"
      },
      "cell_type": "code",
      "source": [
        "show_topics(t_H.cpu().numpy())"
      ],
      "execution_count": 35,
      "outputs": [
        {
          "output_type": "execute_result",
          "data": {
            "text/plain": [
              "['god jesus bible believe atheism christian does belief',\n",
              " 'thanks graphics files image file program windows know',\n",
              " 'ico bobbe tek bronx beauchaine manhattan sank queens',\n",
              " 'don people just think like know say religion',\n",
              " 'objective morality values moral subjective science absolute claim',\n",
              " 'space nasa launch shuttle orbit lunar moon earth']"
            ]
          },
          "metadata": {
            "tags": []
          },
          "execution_count": 35
        }
      ]
    },
    {
      "metadata": {
        "id": "jRWqYvkI5a3e",
        "colab_type": "code",
        "colab": {
          "base_uri": "https://localhost:8080/",
          "height": 282
        },
        "outputId": "ae66502d-7c05-4582-e85f-303b499b74b0"
      },
      "cell_type": "code",
      "source": [
        "plt.plot(t_H.cpu().numpy()[0])\n"
      ],
      "execution_count": 36,
      "outputs": [
        {
          "output_type": "execute_result",
          "data": {
            "text/plain": [
              "[<matplotlib.lines.Line2D at 0x7fec31708668>]"
            ]
          },
          "metadata": {
            "tags": []
          },
          "execution_count": 36
        },
        {
          "output_type": "display_data",
          "data": {
            "image/png": "[encoded data removed]",
            "text/plain": [
              "<matplotlib.figure.Figure at 0x7fec316fa7f0>"
            ]
          },
          "metadata": {
            "tags": []
          }
        }
      ]
    },
    {
      "metadata": {
        "id": "YCgtMWB_5gOW",
        "colab_type": "text"
      },
      "cell_type": "markdown",
      "source": [
        "PyTorch: autograd \n",
        "\n",
        "Above we implemented stochastic gradient descent from scratch. Instead owe could use PyTorch's automatic differentiation package autograd. \n"
      ]
    },
    {
      "metadata": {
        "id": "oP0HTXBU5sg1",
        "colab_type": "code",
        "colab": {
          "base_uri": "https://localhost:8080/",
          "height": 51
        },
        "outputId": "9007d9b6-2c72-4749-acb8-5e56726883ac"
      },
      "cell_type": "code",
      "source": [
        "x = Variable(torch.ones(2, 2), requires_grad=True)\n",
        "print(x)"
      ],
      "execution_count": 40,
      "outputs": [
        {
          "output_type": "stream",
          "text": [
            "tensor([[1., 1.],\n",
            "        [1., 1.]], requires_grad=True)\n"
          ],
          "name": "stdout"
        }
      ]
    },
    {
      "metadata": {
        "id": "8DQPkiWD53Fh",
        "colab_type": "code",
        "colab": {
          "base_uri": "https://localhost:8080/",
          "height": 51
        },
        "outputId": "f2bd9df6-40df-4149-d60f-464350d886c3"
      },
      "cell_type": "code",
      "source": [
        "print(x.data)"
      ],
      "execution_count": 41,
      "outputs": [
        {
          "output_type": "stream",
          "text": [
            "tensor([[1., 1.],\n",
            "        [1., 1.]])\n"
          ],
          "name": "stdout"
        }
      ]
    },
    {
      "metadata": {
        "id": "L55n-X4z55uM",
        "colab_type": "code",
        "colab": {
          "base_uri": "https://localhost:8080/",
          "height": 51
        },
        "outputId": "ccdbc27e-4a7e-4bf5-af1c-399ae99297bc"
      },
      "cell_type": "code",
      "source": [
        "y = x + 2\n",
        "print(y)"
      ],
      "execution_count": 43,
      "outputs": [
        {
          "output_type": "stream",
          "text": [
            "tensor([[3., 3.],\n",
            "        [3., 3.]], grad_fn=<AddBackward>)\n"
          ],
          "name": "stdout"
        }
      ]
    },
    {
      "metadata": {
        "id": "eliHh46J6Cyk",
        "colab_type": "code",
        "colab": {
          "base_uri": "https://localhost:8080/",
          "height": 51
        },
        "outputId": "c922f0d8-72e3-49e8-c16d-d4b52d28e462"
      },
      "cell_type": "code",
      "source": [
        "z = y * y * 3\n",
        "out = z.sum() \n",
        "print(z, out)"
      ],
      "execution_count": 44,
      "outputs": [
        {
          "output_type": "stream",
          "text": [
            "tensor([[27., 27.],\n",
            "        [27., 27.]], grad_fn=<MulBackward>) tensor(108., grad_fn=<SumBackward0>)\n"
          ],
          "name": "stdout"
        }
      ]
    },
    {
      "metadata": {
        "id": "IgDgmeo_6JI6",
        "colab_type": "code",
        "colab": {
          "base_uri": "https://localhost:8080/",
          "height": 51
        },
        "outputId": "a2ecf099-b0d5-45cf-c2b4-9dde887d7571"
      },
      "cell_type": "code",
      "source": [
        "out.backward()\n",
        "print(x.grad)"
      ],
      "execution_count": 45,
      "outputs": [
        {
          "output_type": "stream",
          "text": [
            "tensor([[18., 18.],\n",
            "        [18., 18.]])\n"
          ],
          "name": "stdout"
        }
      ]
    },
    {
      "metadata": {
        "id": "l-mb7MMR6NGp",
        "colab_type": "text"
      },
      "cell_type": "markdown",
      "source": [
        "Using autograd for NMF"
      ]
    },
    {
      "metadata": {
        "id": "SsHFE4BP6O9c",
        "colab_type": "code",
        "colab": {}
      },
      "cell_type": "code",
      "source": [
        "lam = 1e6\n",
        "pW = Variable(tc.FloatTensor(m, d), requires_grad = True)\n",
        "pH = Variable(tc.FloatTensor(d, n), requires_grad = True)\n",
        "pW.data.normal_(std=0.01).abs()\n",
        "pH.data.normal_(std=0.01).abs(); "
      ],
      "execution_count": 0,
      "outputs": []
    },
    {
      "metadata": {
        "id": "wYaOowog6grq",
        "colab_type": "code",
        "colab": {}
      },
      "cell_type": "code",
      "source": [
        "def report():\n",
        "    W,H = pW.data, pH.data\n",
        "    print((M-pW.mm(pH)).norm(2).data[0], W.min(), H.min(), (W<0).sum(), (H<0).sum())\n",
        "\n",
        "def penalty(A):\n",
        "    return torch.pow((A<0).type(tc.FloatTensor)*torch.clamp(A, max=0.), 2)\n",
        "\n",
        "def penalize(): return penalty(pW).mean() + penalty(pH).mean()\n",
        "\n",
        "def loss(): return (M-pW.mm(pH)).norm(2) + penalize()*lam"
      ],
      "execution_count": 0,
      "outputs": []
    },
    {
      "metadata": {
        "id": "G9D1v8NO6iXm",
        "colab_type": "code",
        "colab": {
          "base_uri": "https://localhost:8080/",
          "height": 88
        },
        "outputId": "64c352d5-c132-4140-dc85-ce215b24bc1a"
      },
      "cell_type": "code",
      "source": [
        "M = Variable(t_vectors).cuda()\n",
        "opt = torch.optim.Adam([pW, pH], lr = 1e-3, betas = (0.9, 0.9))\n",
        "lr = 0.05 \n",
        "report()"
      ],
      "execution_count": 49,
      "outputs": [
        {
          "output_type": "stream",
          "text": [
            "tensor(44.4660, device='cuda:0') tensor(-0.0365, device='cuda:0') tensor(-0.0434, device='cuda:0') tensor(6074, device='cuda:0') tensor(79340, device='cuda:0')\n"
          ],
          "name": "stdout"
        },
        {
          "output_type": "stream",
          "text": [
            "/usr/local/lib/python3.6/dist-packages/ipykernel_launcher.py:3: UserWarning: invalid index of a 0-dim tensor. This will be an error in PyTorch 0.5. Use tensor.item() to convert a 0-dim tensor to a Python number\n",
            "  This is separate from the ipykernel package so we can avoid doing imports until\n"
          ],
          "name": "stderr"
        }
      ]
    },
    {
      "metadata": {
        "id": "c94J5Kh2608v",
        "colab_type": "code",
        "colab": {
          "base_uri": "https://localhost:8080/",
          "height": 241
        },
        "outputId": "d594d9d6-a446-4599-d714-880054ebc492"
      },
      "cell_type": "code",
      "source": [
        "# apply SGD using autograd \n",
        "\n",
        "for i in range(1000): \n",
        "  opt.zero_grad()\n",
        "  l = loss()\n",
        "  l.backward()\n",
        "  opt.step()\n",
        "  if i % 100 == 99: \n",
        "    report()\n",
        "    lr *= 0.9 # learning rate annealing\n"
      ],
      "execution_count": 50,
      "outputs": [
        {
          "output_type": "stream",
          "text": [
            "/usr/local/lib/python3.6/dist-packages/ipykernel_launcher.py:3: UserWarning: invalid index of a 0-dim tensor. This will be an error in PyTorch 0.5. Use tensor.item() to convert a 0-dim tensor to a Python number\n",
            "  This is separate from the ipykernel package so we can avoid doing imports until\n"
          ],
          "name": "stderr"
        },
        {
          "output_type": "stream",
          "text": [
            "tensor(44.1094, device='cuda:0') tensor(-0.0007, device='cuda:0') tensor(-0.0009, device='cuda:0') tensor(218, device='cuda:0') tensor(8789, device='cuda:0')\n",
            "tensor(43.8447, device='cuda:0') tensor(-0.0009, device='cuda:0') tensor(-0.0011, device='cuda:0') tensor(347, device='cuda:0') tensor(10991, device='cuda:0')\n",
            "tensor(43.7586, device='cuda:0') tensor(-0.0005, device='cuda:0') tensor(-0.0006, device='cuda:0') tensor(298, device='cuda:0') tensor(12593, device='cuda:0')\n",
            "tensor(43.7058, device='cuda:0') tensor(-0.0003, device='cuda:0') tensor(-0.0009, device='cuda:0') tensor(225, device='cuda:0') tensor(12886, device='cuda:0')\n",
            "tensor(43.6788, device='cuda:0') tensor(-0.0004, device='cuda:0') tensor(-0.0009, device='cuda:0') tensor(215, device='cuda:0') tensor(12779, device='cuda:0')\n",
            "tensor(43.6684, device='cuda:0') tensor(-0.0003, device='cuda:0') tensor(-0.0008, device='cuda:0') tensor(198, device='cuda:0') tensor(12793, device='cuda:0')\n",
            "tensor(43.6653, device='cuda:0') tensor(-0.0003, device='cuda:0') tensor(-0.0007, device='cuda:0') tensor(224, device='cuda:0') tensor(11976, device='cuda:0')\n",
            "tensor(43.6643, device='cuda:0') tensor(-0.0003, device='cuda:0') tensor(-0.0006, device='cuda:0') tensor(231, device='cuda:0') tensor(10914, device='cuda:0')\n",
            "tensor(43.6641, device='cuda:0') tensor(-0.0003, device='cuda:0') tensor(-0.0005, device='cuda:0') tensor(289, device='cuda:0') tensor(9998, device='cuda:0')\n",
            "tensor(43.6642, device='cuda:0') tensor(-0.0003, device='cuda:0') tensor(-0.0005, device='cuda:0') tensor(304, device='cuda:0') tensor(9152, device='cuda:0')\n"
          ],
          "name": "stdout"
        }
      ]
    },
    {
      "metadata": {
        "id": "S-Z_u8b07EYQ",
        "colab_type": "code",
        "colab": {
          "base_uri": "https://localhost:8080/",
          "height": 119
        },
        "outputId": "93b60edc-c3e0-4476-c8be-bc4cf169b93d"
      },
      "cell_type": "code",
      "source": [
        "h = pH.data.cpu().numpy()\n",
        "show_topics(h)"
      ],
      "execution_count": 51,
      "outputs": [
        {
          "output_type": "execute_result",
          "data": {
            "text/plain": [
              "['god atheism believe belief exist does existence atheists',\n",
              " 'jesus bible christian christians christ law koresh jews',\n",
              " 'ico bobbe tek bronx beauchaine manhattan sank queens',\n",
              " 'don think people just objective like morality say',\n",
              " 'graphics thanks files image file program windows know',\n",
              " 'space nasa launch shuttle orbit moon lunar earth']"
            ]
          },
          "metadata": {
            "tags": []
          },
          "execution_count": 51
        }
      ]
    },
    {
      "metadata": {
        "id": "ci70DdwT7JGz",
        "colab_type": "code",
        "colab": {
          "base_uri": "https://localhost:8080/",
          "height": 265
        },
        "outputId": "5636e60e-c871-4cd4-935c-a7977546fc9c"
      },
      "cell_type": "code",
      "source": [
        "plt.plot(h[0]);"
      ],
      "execution_count": 52,
      "outputs": [
        {
          "output_type": "display_data",
          "data": {
            "image/png": "[encoded data removed]",
            "text/plain": [
              "<matplotlib.figure.Figure at 0x7fec31701898>"
            ]
          },
          "metadata": {
            "tags": []
          }
        }
      ]
    },
    {
      "metadata": {
        "id": "S-K_XnbF7Q_4",
        "colab_type": "text"
      },
      "cell_type": "markdown",
      "source": [
        "![alt text](http://nbviewer.jupyter.org/github/fastai/numerical-linear-algebra/blob/master/nbs/images/nimfa.png)"
      ]
    },
    {
      "metadata": {
        "id": "NmbtdTNM7WBj",
        "colab_type": "text"
      },
      "cell_type": "markdown",
      "source": [
        "Truncated SVD \n",
        "\n",
        "When we calculated NMF we only calculated the subset of columns that we were interested in. This saved us a lot of time over singular value decomposition. We can get the subset selection that we want from NMF with SVD by using Truncated SVD. In this case we are only interested in the vectors corresponding to the largest singular values. \n",
        "\n",
        "\n",
        "Shortcomings of classical algorithms for decomposition:\n",
        "\n",
        "Matrices are \"stupendously big\"\n",
        "\n",
        "Data are often missing or inaccurate. Why spend extra computational resources when imprecision of input limits precision of the output?\n",
        "\n",
        "Data transfer now plays a major role in time of algorithms. Techniques the require fewer passes over the data may be substantially faster, even if they require more flops (flops = floating point operations).\n",
        "\n",
        "Important to take advantage of GPUs.\n",
        "\n",
        "Advantages of randomized algorithms:\n",
        "\n",
        "inherently stable\n",
        "\n",
        "performance guarantees do not depend on subtle spectral properties\n",
        "\n",
        "needed matrix-vector products can be done in parallel"
      ]
    },
    {
      "metadata": {
        "id": "3McgjZkqECXP",
        "colab_type": "code",
        "colab": {
          "base_uri": "https://localhost:8080/",
          "height": 34
        },
        "outputId": "9f2e2f64-b580-4f8e-d13d-65cba57de535"
      },
      "cell_type": "code",
      "source": [
        "vectors.shape"
      ],
      "execution_count": 53,
      "outputs": [
        {
          "output_type": "execute_result",
          "data": {
            "text/plain": [
              "(2034, 26576)"
            ]
          },
          "metadata": {
            "tags": []
          },
          "execution_count": 53
        }
      ]
    },
    {
      "metadata": {
        "id": "6YPCAL-6EFeH",
        "colab_type": "code",
        "colab": {
          "base_uri": "https://localhost:8080/",
          "height": 51
        },
        "outputId": "982dc7af-cd2a-4c1d-cbcb-7e9dd21f1434"
      },
      "cell_type": "code",
      "source": [
        "%time U, s, Vh = linalg.svd(vectors, full_matrices = False)"
      ],
      "execution_count": 54,
      "outputs": [
        {
          "output_type": "stream",
          "text": [
            "CPU times: user 1min 41s, sys: 6.32 s, total: 1min 47s\n",
            "Wall time: 56 s\n"
          ],
          "name": "stdout"
        }
      ]
    },
    {
      "metadata": {
        "id": "szUsFhX4EMQA",
        "colab_type": "code",
        "colab": {
          "base_uri": "https://localhost:8080/",
          "height": 34
        },
        "outputId": "99d4c840-ccc6-49e1-f525-692579066e9f"
      },
      "cell_type": "code",
      "source": [
        "print(U.shape, s.shape, Vh.shape)"
      ],
      "execution_count": 55,
      "outputs": [
        {
          "output_type": "stream",
          "text": [
            "(2034, 2034) (2034,) (2034, 26576)\n"
          ],
          "name": "stdout"
        }
      ]
    },
    {
      "metadata": {
        "id": "uHWr-LlEEQCC",
        "colab_type": "code",
        "colab": {
          "base_uri": "https://localhost:8080/",
          "height": 51
        },
        "outputId": "b5200f73-67ed-4c36-9601-ed941a4cbeb6"
      },
      "cell_type": "code",
      "source": [
        "# faster way\n",
        "%time u, s, v = decomposition.randomized_svd(vectors, 5)"
      ],
      "execution_count": 56,
      "outputs": [
        {
          "output_type": "stream",
          "text": [
            "CPU times: user 10.3 s, sys: 1.82 s, total: 12.1 s\n",
            "Wall time: 6.52 s\n"
          ],
          "name": "stdout"
        }
      ]
    },
    {
      "metadata": {
        "id": "bw15htmZEdc8",
        "colab_type": "code",
        "colab": {
          "base_uri": "https://localhost:8080/",
          "height": 34
        },
        "outputId": "aef75482-af78-4352-a43b-de6084555072"
      },
      "cell_type": "code",
      "source": [
        "u.shape, s.shape, v.shape "
      ],
      "execution_count": 57,
      "outputs": [
        {
          "output_type": "execute_result",
          "data": {
            "text/plain": [
              "((2034, 5), (5,), (5, 26576))"
            ]
          },
          "metadata": {
            "tags": []
          },
          "execution_count": 57
        }
      ]
    },
    {
      "metadata": {
        "id": "twN5OwLYEgrB",
        "colab_type": "code",
        "colab": {
          "base_uri": "https://localhost:8080/",
          "height": 51
        },
        "outputId": "21d5d81e-4c07-4055-c082-27ca27bb2a27"
      },
      "cell_type": "code",
      "source": [
        "# using a smaller matrix (with smaller n). Instead of calculating with the full matrix A which is mxn we can use B=AQ which is mxr and r << n\n",
        "%time u, s, v = decomposition.randomized_svd(vectors, 5)"
      ],
      "execution_count": 58,
      "outputs": [
        {
          "output_type": "stream",
          "text": [
            "CPU times: user 10.3 s, sys: 1.82 s, total: 12.1 s\n",
            "Wall time: 6.58 s\n"
          ],
          "name": "stdout"
        }
      ]
    },
    {
      "metadata": {
        "id": "U3PgajkXEvs1",
        "colab_type": "code",
        "colab": {
          "base_uri": "https://localhost:8080/",
          "height": 34
        },
        "outputId": "fc8c43f1-c08b-4b94-b400-874f6d8fa1fc"
      },
      "cell_type": "code",
      "source": [
        "u.shape, s.shape, v.shape"
      ],
      "execution_count": 59,
      "outputs": [
        {
          "output_type": "execute_result",
          "data": {
            "text/plain": [
              "((2034, 5), (5,), (5, 26576))"
            ]
          },
          "metadata": {
            "tags": []
          },
          "execution_count": 59
        }
      ]
    },
    {
      "metadata": {
        "id": "JYa2L4xuEybI",
        "colab_type": "code",
        "colab": {
          "base_uri": "https://localhost:8080/",
          "height": 102
        },
        "outputId": "65026727-fc96-4d90-ffdf-4eafe8f29a8a"
      },
      "cell_type": "code",
      "source": [
        "show_topics(v)"
      ],
      "execution_count": 60,
      "outputs": [
        {
          "output_type": "execute_result",
          "data": {
            "text/plain": [
              "['jpeg image edu file graphics images gif data',\n",
              " 'jpeg gif file color quality image jfif format',\n",
              " 'space jesus launch god people satellite matthew atheists',\n",
              " 'jesus god matthew people atheists atheism does graphics',\n",
              " 'image data processing analysis software available tools display']"
            ]
          },
          "metadata": {
            "tags": []
          },
          "execution_count": 60
        }
      ]
    },
    {
      "metadata": {
        "id": "dTbpAzxfE9pF",
        "colab_type": "text"
      },
      "cell_type": "markdown",
      "source": [
        "Johnson-Lindenstrauss Lemma: A small set of points in high dimensional space can be embedded into a space of much lower dimension in such a way that distances between the points are nearly preserved.\n",
        "\n",
        "It is desirable to be able to reduce dimensionality of data in a way that preserves relevant structure. The JL- lemme is a classic result of this type.\n",
        "\n",
        "Implementing our own Randomized SVD: "
      ]
    },
    {
      "metadata": {
        "id": "xL3e48J3E5pm",
        "colab_type": "code",
        "colab": {}
      },
      "cell_type": "code",
      "source": [
        "from scipy import linalg"
      ],
      "execution_count": 0,
      "outputs": []
    },
    {
      "metadata": {
        "id": "yviMGt8xFU0m",
        "colab_type": "text"
      },
      "cell_type": "markdown",
      "source": [
        "The method randomized_range_finder finds an orthonormal matrix whose range approximates the range of A (step 1 in our algorithm above). To do so, we use the LU and QR factorizations, both of which we will be covering in depth later. \n",
        "\n",
        "Scikitlearn randomized svd source code: https://github.com/scikit-learn/scikit-learn/blob/14031f65d144e3966113d3daec836e443c6d7a5b/sklearn/utils/extmath.py"
      ]
    },
    {
      "metadata": {
        "id": "nf06wk3PFn--",
        "colab_type": "code",
        "colab": {}
      },
      "cell_type": "code",
      "source": [
        "# computes an orthonormal matrix whose range approximates the range of A\n",
        "# power_iteration_normalizer can be safe_sparse_dot (fast but unstable), LU (in between) or QR (slow but accurate) \n",
        "\n",
        "def randomized_range_finder(A, size, n_iter = 5): \n",
        "  Q = np.random.normal(size = (A.shape[1], size))\n",
        "  \n",
        "  for i in range(n_iter): \n",
        "    Q, _ = linalg.lu(A @ Q, permute_l = True)\n",
        "    Q, _ = linalg.lu(A.T @ Q, permute_l = True) \n",
        "    \n",
        "  Q, _ = linalg.qr(A @ Q, mode = 'economic')\n",
        "  return Q\n",
        "\n",
        "def randomized_svd(M, n_components, n_oversamples = 10, n_iter = 4): \n",
        "  n_random = n_components + n_oversamples \n",
        "  Q = randomized_range_finder(M, n_random, n_iter)\n",
        "  \n",
        "  # project M to the (k + p) dimensional space using the basis vectors \n",
        "  B = Q.T @ M \n",
        "  \n",
        "  # compute the SVD on the thin matrix: (k + p) wide \n",
        "  Uhat, s, V = linalg.svd(B, full_matrices = False) \n",
        "  del B\n",
        "  U = Q @ Uhat\n",
        "  \n",
        "  return U[:, :n_components], s[:n_components], V[:n_components, :]"
      ],
      "execution_count": 0,
      "outputs": []
    },
    {
      "metadata": {
        "id": "z--ha8qrGn56",
        "colab_type": "code",
        "colab": {
          "base_uri": "https://localhost:8080/",
          "height": 51
        },
        "outputId": "0051675b-1ede-4217-cfb8-446531d2886d"
      },
      "cell_type": "code",
      "source": [
        "u, s, v = randomized_svd(vectors, 5)\n",
        "%time u, s, v = randomized_svd(vectors, 5)"
      ],
      "execution_count": 63,
      "outputs": [
        {
          "output_type": "stream",
          "text": [
            "CPU times: user 6.77 s, sys: 1.4 s, total: 8.17 s\n",
            "Wall time: 4.37 s\n"
          ],
          "name": "stdout"
        }
      ]
    },
    {
      "metadata": {
        "id": "cinuBlPzGy-r",
        "colab_type": "code",
        "colab": {
          "base_uri": "https://localhost:8080/",
          "height": 34
        },
        "outputId": "56268f2b-9d1d-48f4-dcdd-023d903e5e47"
      },
      "cell_type": "code",
      "source": [
        "u.shape, s.shape, v.shape"
      ],
      "execution_count": 64,
      "outputs": [
        {
          "output_type": "execute_result",
          "data": {
            "text/plain": [
              "((2034, 5), (5,), (5, 26576))"
            ]
          },
          "metadata": {
            "tags": []
          },
          "execution_count": 64
        }
      ]
    },
    {
      "metadata": {
        "id": "KcMTX1vgG-Bo",
        "colab_type": "code",
        "colab": {
          "base_uri": "https://localhost:8080/",
          "height": 102
        },
        "outputId": "06bcd04f-7162-4391-d09a-9ea9e8f8289d"
      },
      "cell_type": "code",
      "source": [
        "show_topics(v)"
      ],
      "execution_count": 65,
      "outputs": [
        {
          "output_type": "execute_result",
          "data": {
            "text/plain": [
              "['jpeg image edu file graphics images gif data',\n",
              " 'edu graphics data space pub mail 128 3d',\n",
              " 'graphics edu pub mail 128 3d ray ftp',\n",
              " 'jesus god matthew people atheists atheism does graphics',\n",
              " 'jpeg graphics space pub edu ray mail send']"
            ]
          },
          "metadata": {
            "tags": []
          },
          "execution_count": 65
        }
      ]
    }
  ]
}