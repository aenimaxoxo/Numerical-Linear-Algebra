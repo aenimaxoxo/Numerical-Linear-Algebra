{
  "nbformat": 4,
  "nbformat_minor": 0,
  "metadata": {
    "colab": {
      "name": "Topic_Modeling_with_NMF_and_SVD.ipynb",
      "version": "0.3.2",
      "provenance": [],
      "collapsed_sections": []
    },
    "kernelspec": {
      "name": "python3",
      "display_name": "Python 3"
    }
  },
  "cells": [
    {
      "metadata": {
        "id": "iG0iPRzxl4-Q",
        "colab_type": "code",
        "colab": {}
      },
      "cell_type": "code",
      "source": [
        "import numpy as np\n",
        "from sklearn.datasets import fetch_20newsgroups\n",
        "from sklearn import decomposition\n",
        "from scipy import linalg\n",
        "import matplotlib.pyplot as plt"
      ],
      "execution_count": 0,
      "outputs": []
    },
    {
      "metadata": {
        "id": "jmDxg_bqmQJV",
        "colab_type": "text"
      },
      "cell_type": "markdown",
      "source": [
        "Topic Modeling with NMF and SVD "
      ]
    },
    {
      "metadata": {
        "id": "u5UL6pADl8NE",
        "colab_type": "code",
        "colab": {}
      },
      "cell_type": "code",
      "source": [
        "%matplotlib inline\n",
        "np.set_printoptions(suppress=True)"
      ],
      "execution_count": 0,
      "outputs": []
    },
    {
      "metadata": {
        "id": "VvnJ69k6mu2t",
        "colab_type": "text"
      },
      "cell_type": "markdown",
      "source": [
        "Set up data"
      ]
    },
    {
      "metadata": {
        "id": "jTmXn6XlmuTb",
        "colab_type": "code",
        "colab": {
          "base_uri": "https://localhost:8080/",
          "height": 51
        },
        "outputId": "11597004-1413-4316-ccd0-97f438cb15cd"
      },
      "cell_type": "code",
      "source": [
        "# seperate categories \n",
        "categories = ['alt.atheism', 'talk.religion.misc', 'comp.graphics', 'sci.space']\n",
        "remove = ('headers', 'footers', 'quotes') \n",
        "\n",
        "# set training and test sets \n",
        "newsgroups_train = fetch_20newsgroups(subset = 'train', categories = categories, remove = remove)\n",
        "newsgroups_test = fetch_20newsgroups(subset = 'test', categories = categories, remove = remove)"
      ],
      "execution_count": 7,
      "outputs": [
        {
          "output_type": "stream",
          "text": [
            "Downloading 20news dataset. This may take a few minutes.\n",
            "Downloading dataset from https://ndownloader.figshare.com/files/5975967 (14 MB)\n"
          ],
          "name": "stderr"
        }
      ]
    },
    {
      "metadata": {
        "id": "j9heD014nGEA",
        "colab_type": "code",
        "colab": {
          "base_uri": "https://localhost:8080/",
          "height": 34
        },
        "outputId": "ee0e7384-f28f-47d5-d0e2-7a43375d1f6c"
      },
      "cell_type": "code",
      "source": [
        "# return shape of columns\n",
        "newsgroups_train.filenames.shape, newsgroups_train.target.shape "
      ],
      "execution_count": 8,
      "outputs": [
        {
          "output_type": "execute_result",
          "data": {
            "text/plain": [
              "((2034,), (2034,))"
            ]
          },
          "metadata": {
            "tags": []
          },
          "execution_count": 8
        }
      ]
    },
    {
      "metadata": {
        "id": "eMcwFRmxnONs",
        "colab_type": "code",
        "colab": {
          "base_uri": "https://localhost:8080/",
          "height": 612
        },
        "outputId": "d8fe6575-cd17-4744-ebef-616b44dd3a33"
      },
      "cell_type": "code",
      "source": [
        "# look at some of the data \n",
        "print(\"\\n\".join(newsgroups_train.data[:3]))"
      ],
      "execution_count": 9,
      "outputs": [
        {
          "output_type": "stream",
          "text": [
            "Hi,\n",
            "\n",
            "I've noticed that if you only save a model (with all your mapping planes\n",
            "positioned carefully) to a .3DS file that when you reload it after restarting\n",
            "3DS, they are given a default position and orientation.  But if you save\n",
            "to a .PRJ file their positions/orientation are preserved.  Does anyone\n",
            "know why this information is not stored in the .3DS file?  Nothing is\n",
            "explicitly said in the manual about saving texture rules in the .PRJ file. \n",
            "I'd like to be able to read the texture rule information, does anyone have \n",
            "the format for the .PRJ file?\n",
            "\n",
            "Is the .CEL file format available from somewhere?\n",
            "\n",
            "Rych\n",
            "\n",
            "\n",
            "Seems to be, barring evidence to the contrary, that Koresh was simply\n",
            "another deranged fanatic who thought it neccessary to take a whole bunch of\n",
            "folks with him, children and all, to satisfy his delusional mania. Jim\n",
            "Jones, circa 1993.\n",
            "\n",
            "\n",
            "Nope - fruitcakes like Koresh have been demonstrating such evil corruption\n",
            "for centuries.\n",
            "\n",
            " >In article <1993Apr19.020359.26996@sq.sq.com>, msb@sq.sq.com (Mark Brader) \n",
            "\n",
            "MB>                                                             So the\n",
            "MB> 1970 figure seems unlikely to actually be anything but a perijove.\n",
            "\n",
            "JG>Sorry, _perijoves_...I'm not used to talking this language.\n",
            "\n",
            "Couldn't we just say periapsis or apoapsis?\n",
            "\n",
            " \n"
          ],
          "name": "stdout"
        }
      ]
    },
    {
      "metadata": {
        "id": "f6lGN0szncoU",
        "colab_type": "code",
        "colab": {}
      },
      "cell_type": "code",
      "source": [
        "# return a subset of the data\n",
        "np.array(newsgroups_train.target_names)[newsgroups_train.target[:3]]\n",
        "newsgroups_train.target[:10] \n",
        "num_topics, num_top_words = 6, 8"
      ],
      "execution_count": 0,
      "outputs": []
    },
    {
      "metadata": {
        "id": "2jv9yZlOnq90",
        "colab_type": "code",
        "colab": {
          "base_uri": "https://localhost:8080/",
          "height": 34
        },
        "outputId": "47d49a2c-f416-4139-b85e-aebde0b2e312"
      },
      "cell_type": "code",
      "source": [
        "# extract word counts using skl\n",
        "from sklearn.feature_extraction.text import CountVectorizer, TfidfVectorizer \n",
        "vectorizer = CountVectorizer(stop_words = 'english')\n",
        "vectors = vectorizer.fit_transform(newsgroups_train.data).todense() # (documents, vocab)\n",
        "vectors.shape"
      ],
      "execution_count": 11,
      "outputs": [
        {
          "output_type": "execute_result",
          "data": {
            "text/plain": [
              "(2034, 26576)"
            ]
          },
          "metadata": {
            "tags": []
          },
          "execution_count": 11
        }
      ]
    },
    {
      "metadata": {
        "id": "OhEgz_LyoUfR",
        "colab_type": "code",
        "colab": {
          "base_uri": "https://localhost:8080/",
          "height": 102
        },
        "outputId": "ca1195a2-8825-4639-b0b0-b66fb4f55e34"
      },
      "cell_type": "code",
      "source": [
        "print(len(newsgroups_train.data), vectors.shape)\n",
        "vocab = np.array(vectorizer.get_feature_names())\n",
        "vocab.shape\n",
        "vocab[7000:7020]"
      ],
      "execution_count": 12,
      "outputs": [
        {
          "output_type": "stream",
          "text": [
            "2034 (2034, 26576)\n"
          ],
          "name": "stdout"
        },
        {
          "output_type": "execute_result",
          "data": {
            "text/plain": [
              "array(['cosmonauts', 'cosmos', 'cosponsored', 'cost', 'costa', 'costar',\n",
              "       'costing', 'costly', 'costruction', 'costs', 'cosy', 'cote',\n",
              "       'couched', 'couldn', 'council', 'councils', 'counsel',\n",
              "       'counselees', 'counselor', 'count'], dtype='<U80')"
            ]
          },
          "metadata": {
            "tags": []
          },
          "execution_count": 12
        }
      ]
    },
    {
      "metadata": {
        "id": "Q2h_fi0_oi0l",
        "colab_type": "text"
      },
      "cell_type": "markdown",
      "source": [
        "Singluar Value Decomposition \n",
        "\n",
        "\n",
        "The SVD algorithm factorizes a matrix into one matrix with orthogonal columns and one with orthogonal rows (along with a diagonal matrix, which contains the relative importance of each factor).\n",
        "\n",
        "SVD is used in data science specifically for: \n",
        "\n",
        "- semantic analysis\n",
        "- collaborative filtering / reccomendations (winning entry for the netflix prize)\n",
        "- calculating the Moore-Penrose pseudoinverse\n",
        "- data compression\n",
        "- principal component analysis\n",
        "\n",
        "Here is a useful youtube video: \n",
        "https://www.youtube.com/watch?v=P5mlg91as1c\n",
        "\n"
      ]
    },
    {
      "metadata": {
        "id": "-YOR1CuAohKJ",
        "colab_type": "code",
        "colab": {
          "base_uri": "https://localhost:8080/",
          "height": 68
        },
        "outputId": "58a5f23f-d98a-4219-ff50-c8c7fd84e982"
      },
      "cell_type": "code",
      "source": [
        "%time U, s, Vh = linalg.svd(vectors, full_matrices = False)\n",
        "print(U.shape, s.shape, Vh.shape)"
      ],
      "execution_count": 13,
      "outputs": [
        {
          "output_type": "stream",
          "text": [
            "CPU times: user 1min 46s, sys: 7.18 s, total: 1min 53s\n",
            "Wall time: 58.4 s\n",
            "(2034, 2034) (2034,) (2034, 26576)\n"
          ],
          "name": "stdout"
        }
      ]
    },
    {
      "metadata": {
        "id": "RYIYMfVDtX2X",
        "colab_type": "code",
        "colab": {
          "base_uri": "https://localhost:8080/",
          "height": 282
        },
        "outputId": "b88a5e12-9c4f-4bd4-8da6-2fec66497471"
      },
      "cell_type": "code",
      "source": [
        "plt.plot(s)"
      ],
      "execution_count": 14,
      "outputs": [
        {
          "output_type": "execute_result",
          "data": {
            "text/plain": [
              "[<matplotlib.lines.Line2D at 0x7f147a9e8ef0>]"
            ]
          },
          "metadata": {
            "tags": []
          },
          "execution_count": 14
        },
        {
          "output_type": "display_data",
          "data": {
            "image/png": "[encoded data removed]",
            "text/plain": [
              "<matplotlib.figure.Figure at 0x7f147b812550>"
            ]
          },
          "metadata": {
            "tags": []
          }
        }
      ]
    },
    {
      "metadata": {
        "id": "7wKxYrqmtaue",
        "colab_type": "code",
        "colab": {
          "base_uri": "https://localhost:8080/",
          "height": 287
        },
        "outputId": "352df334-cddc-4cdc-c1f0-f66beb5c3e6d"
      },
      "cell_type": "code",
      "source": [
        "plt.plot(s[:10])"
      ],
      "execution_count": 15,
      "outputs": [
        {
          "output_type": "execute_result",
          "data": {
            "text/plain": [
              "[<matplotlib.lines.Line2D at 0x7f147a9980f0>]"
            ]
          },
          "metadata": {
            "tags": []
          },
          "execution_count": 15
        },
        {
          "output_type": "display_data",
          "data": {
            "image/png": "[encoded data removed]",
            "text/plain": [
              "<matplotlib.figure.Figure at 0x7f147a9ec0f0>"
            ]
          },
          "metadata": {
            "tags": []
          }
        }
      ]
    },
    {
      "metadata": {
        "id": "7O41E7qjtfid",
        "colab_type": "code",
        "colab": {
          "base_uri": "https://localhost:8080/",
          "height": 187
        },
        "outputId": "94408a93-ab57-4f1a-8c17-56ef9cb3e0fe"
      },
      "cell_type": "code",
      "source": [
        "num_top_words = 8\n",
        "\n",
        "def show_topics(a): \n",
        "  top_words = lambda t: [vocab[i] for i in np.argsort(t)[:-num_top_words - 1: -1]] \n",
        "  topic_words = ([top_words(t) for t in a])\n",
        "  return [' '.join(t) for t in topic_words]\n",
        "\n",
        "show_topics(Vh[:10])"
      ],
      "execution_count": 16,
      "outputs": [
        {
          "output_type": "execute_result",
          "data": {
            "text/plain": [
              "['ditto critus propagandist surname galacticentric kindergarten surreal imaginative',\n",
              " 'jpeg gif file color quality image jfif format',\n",
              " 'graphics edu pub mail 128 3d ray ftp',\n",
              " 'jesus god matthew people atheists atheism does graphics',\n",
              " 'image data processing analysis software available tools display',\n",
              " 'god atheists atheism religious believe religion argument true',\n",
              " 'space nasa lunar mars probe moon missions probes',\n",
              " 'image probe surface lunar mars probes moon orbit',\n",
              " 'argument fallacy conclusion example true ad argumentum premises',\n",
              " 'space larson image theory universe physical nasa material']"
            ]
          },
          "metadata": {
            "tags": []
          },
          "execution_count": 16
        }
      ]
    },
    {
      "metadata": {
        "id": "ax44HZ_Bt2xU",
        "colab_type": "text"
      },
      "cell_type": "markdown",
      "source": [
        ""
      ]
    }
  ]
}